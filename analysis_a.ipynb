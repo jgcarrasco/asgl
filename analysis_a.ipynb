{
 "cells": [
  {
   "cell_type": "code",
   "execution_count": 23,
   "metadata": {},
   "outputs": [],
   "source": [
    "import matplotlib.pyplot as plt\n",
    "\n",
    "import torch\n",
    "import torch.nn as nn\n",
    "\n",
    "from torch_geometric.utils import to_dense_adj\n",
    "from torch_geometric.datasets import Planetoid\n",
    "import torch_geometric.transforms as T\n",
    "\n",
    "from models import ASGL\n",
    "from utils import FeatureSmoothnessLoss, SparseLoss, plot_adjacency_matrix, EarlyStopper"
   ]
  },
  {
   "cell_type": "code",
   "execution_count": 20,
   "metadata": {},
   "outputs": [],
   "source": [
    "device = \"cuda\" if torch.cuda.is_available() else \"cput\"\n",
    "lambda_CE = 1.\n",
    "lambda_L2 = 0.\n",
    "lambda_fs = 0.1\n",
    "lambda_sparse = 1e-1\n",
    "\n",
    "dataset = Planetoid(root=\"data\", name=\"Cora\", split=\"full\")\n",
    "data = dataset[0].to(device)\n",
    "transform = T.Compose([T.NormalizeFeatures()])\n",
    "data = transform(data)\n",
    "A = to_dense_adj(data.edge_index).squeeze(dim=0)\n",
    "num_features = dataset.num_node_features\n",
    "num_nodes = data.num_nodes\n",
    "num_classes = dataset.num_classes\n"
   ]
  },
  {
   "cell_type": "code",
   "execution_count": 21,
   "metadata": {},
   "outputs": [
    {
     "name": "stdout",
     "output_type": "stream",
     "text": [
      "tensor(0.1000) tensor(0.1000, device='cuda:0')\n",
      "tensor(0.2000) tensor(0.2000, device='cuda:0')\n",
      "tensor(0.3000) tensor(0.3000, device='cuda:0')\n",
      "tensor(0.4000) tensor(0.4000, device='cuda:0')\n",
      "tensor(0.5000) tensor(0.5000, device='cuda:0')\n",
      "tensor(0.6000) tensor(0.6000, device='cuda:0')\n",
      "tensor(0.7000) tensor(0.7000, device='cuda:0')\n",
      "tensor(0.8000) tensor(0.8000, device='cuda:0')\n",
      "tensor(0.9000) tensor(0.9000, device='cuda:0')\n",
      "tensor(1.) tensor(0.9996, device='cuda:0')\n"
     ]
    }
   ],
   "source": [
    "a = torch.linspace(0.1, 1., 10)\n",
    "p_ASGL = []\n",
    "\n",
    "for ai in a:\n",
    "    loss_fn = nn.CrossEntropyLoss()\n",
    "    loss_A_fn = lambda A_pred: torch.norm(A_pred[data.train_mask] - A[data.train_mask])\n",
    "    loss_fs_fn = FeatureSmoothnessLoss()\n",
    "    loss_sparse_fn = SparseLoss(a=ai) # lambda A_pred: torch.norm(A_pred, 1)\n",
    "    acc_fn = lambda logits, y: ((logits.argmax(dim=-1) == y).sum() / y.shape[0]).item()\n",
    "\n",
    "    model = ASGL(num_features, num_nodes, num_classes, A=None).to(device)\n",
    "    optimizer_gcn = torch.optim.Adam(model.gcn.parameters(), lr=1e-1, weight_decay=5e-4)\n",
    "    optimizer_A = torch.optim.Adam(model.gl.parameters(), lr=1e-1)\n",
    "\n",
    "    model.train()\n",
    "    for epoch in range(50):\n",
    "        logits = model(data)\n",
    "\n",
    "        # Optimize the GCN\n",
    "        loss = loss_fn(logits[data.train_mask], data.y[data.train_mask])\n",
    "        optimizer_gcn.zero_grad()\n",
    "        loss.backward()\n",
    "        optimizer_gcn.step()\n",
    "\n",
    "        acc = acc_fn(logits[data.train_mask], data.y[data.train_mask])\n",
    "\n",
    "        # Optimize A\n",
    "        logits = model(data)\n",
    "\n",
    "        loss_CE = loss_fn(logits[data.train_mask], data.y[data.train_mask])\n",
    "        loss_L2 = loss_A_fn(model.gl.A)\n",
    "        loss_fs = loss_fs_fn(data.x, model.gl.A)\n",
    "        loss_sparse = loss_sparse_fn(model.gl.A)\n",
    "        loss_A = lambda_CE*loss_CE + lambda_L2*loss_L2 + lambda_fs*loss_fs + lambda_sparse*loss_sparse\n",
    "\n",
    "        optimizer_A.zero_grad()\n",
    "        loss_A.backward()\n",
    "        optimizer_A.step()\n",
    "        \n",
    "        #num_edges = model.gl.A.count_nonzero()\n",
    "        num_edges = (model.gl.A == 1.).sum()\n",
    "        num_zeros = (model.gl.A == 0.).sum()\n",
    "        \n",
    "        # Validation\n",
    "        model.eval()\n",
    "        with torch.no_grad():\n",
    "            logits = model(data)\n",
    "            val_loss = loss_fn(logits[data.val_mask], data.y[data.val_mask])\n",
    "            val_acc = acc_fn(logits[data.val_mask], data.y[data.val_mask])\n",
    "        model.train()\n",
    "    num_edges = (model.gl.A == 1.).sum()\n",
    "    p = num_edges / model.gl.A.nelement()\n",
    "    p_ASGL.append(p.item())\n",
    "    print(ai, p)"
   ]
  },
  {
   "cell_type": "code",
   "execution_count": 46,
   "metadata": {},
   "outputs": [
    {
     "data": {
      "text/plain": [
       "tensor([1.0000e+00, 2.7826e-01, 7.7426e-02, 2.1544e-02, 5.9948e-03, 1.6681e-03,\n",
       "        4.6416e-04, 1.2915e-04, 3.5938e-05, 1.0000e-05])"
      ]
     },
     "execution_count": 46,
     "metadata": {},
     "output_type": "execute_result"
    }
   ],
   "source": [
    "lambdas = 10**torch.linspace(0, -5, 10)\n",
    "lambdas"
   ]
  },
  {
   "cell_type": "code",
   "execution_count": 58,
   "metadata": {},
   "outputs": [
    {
     "name": "stdout",
     "output_type": "stream",
     "text": [
      "tensor(1.) tensor(0., device='cuda:0')\n",
      "tensor(0.2043) tensor(0., device='cuda:0')\n",
      "tensor(0.0418) tensor(0., device='cuda:0')\n",
      "tensor(0.0085) tensor(0., device='cuda:0')\n",
      "tensor(0.0017) tensor(0., device='cuda:0')\n",
      "tensor(0.0004) tensor(3.0000e-06, device='cuda:0')\n",
      "tensor(7.2790e-05) tensor(2.5909e-05, device='cuda:0')\n",
      "tensor(1.4874e-05) tensor(0.0003, device='cuda:0')\n",
      "tensor(3.0392e-06) tensor(0.0035, device='cuda:0')\n",
      "tensor(6.2102e-07) tensor(0.0352, device='cuda:0')\n",
      "tensor(1.2690e-07) tensor(0.1371, device='cuda:0')\n",
      "tensor(2.5929e-08) tensor(0.2063, device='cuda:0')\n",
      "tensor(5.2983e-09) tensor(0.2276, device='cuda:0')\n",
      "tensor(1.0826e-09) tensor(0.2297, device='cuda:0')\n",
      "tensor(2.2122e-10) tensor(0.2337, device='cuda:0')\n",
      "tensor(4.5204e-11) tensor(0.2356, device='cuda:0')\n",
      "tensor(9.2367e-12) tensor(0.2329, device='cuda:0')\n",
      "tensor(1.8874e-12) tensor(0.2329, device='cuda:0')\n",
      "tensor(3.8566e-13) tensor(0.2350, device='cuda:0')\n",
      "tensor(7.8805e-14) tensor(0.2347, device='cuda:0')\n",
      "tensor(1.6103e-14) tensor(0.2339, device='cuda:0')\n",
      "tensor(3.2903e-15) tensor(0.2317, device='cuda:0')\n",
      "tensor(6.7234e-16) tensor(0.2337, device='cuda:0')\n",
      "tensor(1.3738e-16) tensor(0.2329, device='cuda:0')\n",
      "tensor(2.8072e-17) tensor(0.2344, device='cuda:0')\n",
      "tensor(5.7362e-18) tensor(0.2336, device='cuda:0')\n",
      "tensor(1.1721e-18) tensor(0.2349, device='cuda:0')\n",
      "tensor(2.3950e-19) tensor(0.2341, device='cuda:0')\n",
      "tensor(4.8939e-20) tensor(0.2344, device='cuda:0')\n",
      "tensor(1.0000e-20) tensor(0.2327, device='cuda:0')\n"
     ]
    }
   ],
   "source": [
    "lambdas = 10**torch.linspace(0, -20, 30)\n",
    "p_GLNN = []\n",
    "\n",
    "for lambda_sparse in lambdas:\n",
    "    loss_fn = nn.CrossEntropyLoss()\n",
    "    loss_A_fn = lambda A_pred: torch.norm(A_pred[data.train_mask] - A[data.train_mask])\n",
    "    loss_fs_fn = FeatureSmoothnessLoss()\n",
    "    loss_sparse_fn = lambda A_pred: torch.norm(A_pred, 1)\n",
    "    acc_fn = lambda logits, y: ((logits.argmax(dim=-1) == y).sum() / y.shape[0]).item()\n",
    "\n",
    "    model = ASGL(num_features, num_nodes, num_classes, A=None).to(device)\n",
    "    optimizer_gcn = torch.optim.Adam(model.gcn.parameters(), lr=1e-1, weight_decay=5e-4)\n",
    "    optimizer_A = torch.optim.Adam(model.gl.parameters(), lr=1e-1)\n",
    "\n",
    "    model.train()\n",
    "    for epoch in range(100):\n",
    "        logits = model(data)\n",
    "\n",
    "        # Optimize the GCN\n",
    "        loss = loss_fn(logits[data.train_mask], data.y[data.train_mask])\n",
    "        optimizer_gcn.zero_grad()\n",
    "        loss.backward()\n",
    "        optimizer_gcn.step()\n",
    "\n",
    "        acc = acc_fn(logits[data.train_mask], data.y[data.train_mask])\n",
    "\n",
    "        # Optimize A\n",
    "        logits = model(data)\n",
    "\n",
    "        loss_CE = loss_fn(logits[data.train_mask], data.y[data.train_mask])\n",
    "        loss_L2 = loss_A_fn(model.gl.A)\n",
    "        loss_fs = loss_fs_fn(data.x, model.gl.A)\n",
    "        loss_sparse = loss_sparse_fn(model.gl.A)\n",
    "        loss_A = lambda_CE*loss_CE + lambda_L2*loss_L2 + lambda_fs*loss_fs + lambda_sparse*loss_sparse\n",
    "\n",
    "        optimizer_A.zero_grad()\n",
    "        loss_A.backward()\n",
    "        optimizer_A.step()\n",
    "        \n",
    "        #num_edges = model.gl.A.count_nonzero()\n",
    "        num_edges = (model.gl.A == 1.).sum()\n",
    "        num_zeros = (model.gl.A == 0.).sum()\n",
    "        \n",
    "        # Validation\n",
    "        model.eval()\n",
    "        with torch.no_grad():\n",
    "            logits = model(data)\n",
    "            val_loss = loss_fn(logits[data.val_mask], data.y[data.val_mask])\n",
    "            val_acc = acc_fn(logits[data.val_mask], data.y[data.val_mask])\n",
    "        model.train()\n",
    "    num_edges = (model.gl.A == 1.).sum()\n",
    "    p = num_edges / model.gl.A.nelement()\n",
    "    p_GLNN.append(p.item())\n",
    "    print(lambda_sparse, p)"
   ]
  },
  {
   "cell_type": "code",
   "execution_count": 73,
   "metadata": {},
   "outputs": [
    {
     "data": {
      "image/png": "[encoded data removed]",
      "text/plain": [
       "<Figure size 600x300 with 2 Axes>"
      ]
     },
     "metadata": {},
     "output_type": "display_data"
    }
   ],
   "source": [
    "fig, (ax1, ax2) = plt.subplots(nrows=1, ncols=2, figsize=(6, 3))\n",
    "ax1.plot(a, p_ASGL, \"ko--\")\n",
    "ax1.set_xlabel(\"a\")\n",
    "ax1.set_ylabel(f\"% edges\")\n",
    "ax1.set_title(\"ASGL\")\n",
    "ax1.set_ylim(-0.1, 1.1)\n",
    "\n",
    "ax2.plot(lambdas, p_GLNN, \"ko--\")\n",
    "ax2.set_xscale('log')\n",
    "ax2.set_xlabel(r\"$\\lambda_2$\")\n",
    "ax2.set_title(\"GLNN\")\n",
    "ax2.set_xlim(1e-13, 1)\n",
    "ax2.set_ylim(-0.1, 1.1)\n",
    "\n",
    "plt.tight_layout()\n",
    "plt.savefig(\"a_analysis.png\", dpi=300)\n",
    "plt.show()"
   ]
  },
  {
   "cell_type": "code",
   "execution_count": null,
   "metadata": {},
   "outputs": [],
   "source": [
    "fig, (ax1, ax2) = plt.subplots(nrows=1, ncols=2, figsize=(8, 4))  # Increased figure size\n",
    "\n",
    "# ASGL Plot\n",
    "ax1.plot(a, p_ASGL, \"bo-\", linewidth=2, markersize=6)  # Blue solid line with markers\n",
    "ax1.set_xlabel(r\"$a$\", fontsize=14)\n",
    "ax1.set_ylabel(\"% Edges\", fontsize=14)\n",
    "ax1.set_title(\"ASGL\", fontsize=14)\n",
    "ax1.set_ylim(-0.1, 1.1)\n",
    "ax1.grid(True, linestyle=\"--\", alpha=0.6)  # Light grid\n",
    "\n",
    "# GLNN Plot\n",
    "ax2.plot(lambdas, p_GLNN, \"ro-\", linewidth=2, markersize=6)  # Red solid line with markers\n",
    "ax2.set_xscale('log')\n",
    "ax2.set_xlabel(r\"$\\lambda_2$\", fontsize=14)\n",
    "ax2.set_title(\"GLNN\", fontsize=14)\n",
    "ax2.set_xlim(1e-13, 1)\n",
    "ax2.set_ylim(-0.1, 1.1)\n",
    "ax2.grid(True, linestyle=\"--\", alpha=0.6)\n",
    "\n",
    "# Adjust layout and save figure\n",
    "plt.tight_layout()\n",
    "plt.savefig(\"a_analysis.png\", dpi=600, bbox_inches=\"tight\")  # High DPI and tight layout\n",
    "plt.show()"
   ]
  }
 ],
 "metadata": {
  "kernelspec": {
   "display_name": "Python 3",
   "language": "python",
   "name": "python3"
  },
  "language_info": {
   "codemirror_mode": {
    "name": "ipython",
    "version": 3
   },
   "file_extension": ".py",
   "mimetype": "text/x-python",
   "name": "python",
   "nbconvert_exporter": "python",
   "pygments_lexer": "ipython3",
   "version": "3.10.9"
  },
  "orig_nbformat": 4
 },
 "nbformat": 4,
 "nbformat_minor": 2
}
